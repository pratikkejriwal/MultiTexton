{
 "cells": [
  {
   "cell_type": "markdown",
   "metadata": {},
   "source": [
    "# Image Retrieval Based on Multi-Texton Histogram"
   ]
  },
  {
   "cell_type": "code",
   "execution_count": 25,
   "metadata": {
    "collapsed": true
   },
   "outputs": [],
   "source": [
    "# importing libraries\n",
    "import math\n",
    "import cv2\n",
    "import numpy as np\n",
    "import matplotlib.pyplot as plt"
   ]
  },
  {
   "cell_type": "code",
   "execution_count": 36,
   "metadata": {},
   "outputs": [
    {
     "data": {
      "image/jpeg": "[encoded data removed]",
      "text/plain": [
       "<IPython.core.display.Image object>"
      ]
     },
     "execution_count": 36,
     "metadata": {},
     "output_type": "execute_result"
    }
   ],
   "source": [
    "from IPython.display import Image\n",
    "img = cv2.imread('2712.jpg')\n",
    "width, height, channels = img.shape\n",
    "Image('2712.jpg')"
   ]
  },
  {
   "cell_type": "markdown",
   "metadata": {},
   "source": [
    "# Texture Orientation Detection"
   ]
  },
  {
   "cell_type": "code",
   "execution_count": 37,
   "metadata": {},
   "outputs": [
    {
     "data": {
      "text/plain": [
       "array([[ 0.,  0.,  0., ...,  0.,  0.,  0.],\n",
       "       [ 0.,  0.,  0., ...,  0.,  0.,  0.],\n",
       "       [ 0.,  0.,  0., ...,  0.,  0.,  0.],\n",
       "       ..., \n",
       "       [ 0.,  0.,  0., ...,  0.,  0.,  0.],\n",
       "       [ 0.,  0.,  0., ...,  0.,  0.,  0.],\n",
       "       [ 0.,  0.,  0., ...,  0.,  0.,  0.]])"
      ]
     },
     "execution_count": 37,
     "metadata": {},
     "output_type": "execute_result"
    }
   ],
   "source": [
    "CSA = 64\n",
    "CSB = 18\n",
    "arr = np.zeros(3*width*height).reshape(width,height,3)\n",
    "ori = np.zeros(width * height).reshape(width, height)\n",
    "ori"
   ]
  },
  {
   "cell_type": "code",
   "execution_count": 38,
   "metadata": {},
   "outputs": [
    {
     "data": {
      "text/plain": [
       "array([[  0.,   0.,   0., ...,   0.,   0.,   0.],\n",
       "       [  0.,  90.,  90., ...,  90.,  90.,   0.],\n",
       "       [  0.,  90.,  90., ...,  90.,  90.,   0.],\n",
       "       ..., \n",
       "       [  0.,  90.,  90., ...,  90.,  90.,   0.],\n",
       "       [  0.,  90.,  90., ...,  90.,  90.,   0.],\n",
       "       [  0.,   0.,   0., ...,   0.,   0.,   0.]])"
      ]
     },
     "execution_count": 38,
     "metadata": {},
     "output_type": "execute_result"
    }
   ],
   "source": [
    "gxx = gyy = gxy = 0.0\n",
    "rh = gh = bh = 0.0\n",
    "rv = gv = bv = 0.0\n",
    "theta = np.zeros(width*height).reshape(width,height)\n",
    "\n",
    "for i in range(1, width-1):\n",
    "    for j in range(1, height-1):\n",
    "        rh=arr[i-1,j+1,0] + 2*arr[i,j + 1,0] + arr[i+1, j+1,0] - (arr[i-1, j - 1, 0] + 2 * arr[i,j-1, 0] + arr[i + 1, j - 1, 0])\n",
    "        gh=arr[i-1,j+1,1] + 2*arr[i,j + 1,1] + arr[i+ 1,j+1,1] - (arr[i-1, j - 1, 1] + 2 * arr[i,j-1, 1] + arr[i + 1, j - 1, 1])\n",
    "        bh=arr[i-1,j+1,2] + 2*arr[i,j + 1,2] + arr[i+ 1,j+1,2] - (arr[i-1, j - 1, 2] + 2 * arr[i,j-1, 2] + arr[i + 1, j - 1, 2])\n",
    "        rv=arr[i+1,j-1,0] + 2*arr[i+1, j, 0] + arr[i+ 1,j+1,0] - (arr[i-1, j - 1, 0] + 2 * arr[i-1,j, 0] + arr[i - 1, j + 1, 0])\n",
    "        gv=arr[i+1,j-1,1] + 2*arr[i+1, j, 1] + arr[i+ 1,j+1,1] - (arr[i-1, j - 1, 1] + 2 * arr[i-1,j, 1] + arr[i - 1, j + 1, 1])\n",
    "        bv=arr[i+1,j-1,2] + 2*arr[i+1, j, 2] + arr[i+ 1,j+1,2] - (arr[i-1, j - 1, 2] + 2 * arr[i-1,j, 2] + arr[i - 1, j + 1, 2])\n",
    "        \n",
    "        gxx = math.sqrt(rh * rh + gh * gh + bh * bh)\n",
    "        gyy = math.sqrt(rv * rv + gv * gv + bv * bv)\n",
    "        gxy = rh * rv + gh * gv + bh * bv\n",
    "        \n",
    "        theta[i,j] = (math.acos(gxy / (gxx * gyy + 0.0001))*180 / math.pi)\n",
    "\n",
    "ImageX = np.zeros(width * height).reshape(width, height)\n",
    "theta"
   ]
  },
  {
   "cell_type": "markdown",
   "metadata": {},
   "source": [
    "# Color Quantization in RGB Color Space"
   ]
  },
  {
   "cell_type": "code",
   "execution_count": 39,
   "metadata": {
    "scrolled": true
   },
   "outputs": [
    {
     "data": {
      "text/plain": [
       "-1"
      ]
     },
     "execution_count": 39,
     "metadata": {},
     "output_type": "execute_result"
    }
   ],
   "source": [
    "R = G = B = 0\n",
    "VI = SI = HI = 0\n",
    "BC,GC,RC = cv2.split(img)\n",
    "for i in range(0, width):\n",
    "    for j in range(0, height):\n",
    "        R = RC[i][j]\n",
    "        G = GC[i][j]\n",
    "        B = BC[i][j]\n",
    "        \n",
    "        if (R >=0 and R <= 64):\n",
    "            VI = 0;\n",
    "        if (R >= 65 and R <= 128):\n",
    "            VI = 1;\n",
    "        if (R >= 129 and R <= 192):\n",
    "            VI = 2;\n",
    "        if (R >= 193 and R <= 255):\n",
    "            VI = 3;\n",
    "        if (G>= 0 and G <= 64):\n",
    "            SI = 0;\n",
    "        if (G >= 65 and G <= 128):\n",
    "            SI = 1;\n",
    "        if (G >= 129 and G <= 192):\n",
    "            SI = 2;\n",
    "        if (G >= 193 and G <= 255):\n",
    "            SI = 3;\n",
    "        if (B >= 0 and B <= 64):\n",
    "            HI = 0;\n",
    "        if (B >= 65 and B <= 128):\n",
    "            HI = 1;\n",
    "        if (B >= 129 and B <= 192):\n",
    "            HI = 2;\n",
    "        if (B >= 193 and B <= 255):\n",
    "            HI = 3;\n",
    "        \n",
    "        ImageX[i, j] = 16 * VI + 4 * SI + HI;\n",
    "ImageX\n",
    "cv2.imshow('ImageX',ImageX)\n",
    "cv2.waitKey(0)\n",
    "\n"
   ]
  },
  {
   "cell_type": "code",
   "execution_count": 40,
   "metadata": {},
   "outputs": [
    {
     "data": {
      "text/plain": [
       "array([[ 0.,  0.,  0., ...,  0.,  0.,  0.],\n",
       "       [ 0.,  9.,  9., ...,  9.,  9.,  0.],\n",
       "       [ 0.,  9.,  9., ...,  9.,  9.,  0.],\n",
       "       ..., \n",
       "       [ 0.,  9.,  9., ...,  9.,  9.,  0.],\n",
       "       [ 0.,  9.,  9., ...,  9.,  9.,  0.],\n",
       "       [ 0.,  0.,  0., ...,  0.,  0.,  0.]])"
      ]
     },
     "execution_count": 40,
     "metadata": {},
     "output_type": "execute_result"
    }
   ],
   "source": [
    "for i in range(0, width):\n",
    "    for j in range(0, height):\n",
    "        ori[i,j] = round(theta[i,j]*CSB/180)\n",
    "        \n",
    "        if(ori[i,j]>=CSB-1):\n",
    "            ori[i,j]=CSB-1\n",
    "ori"
   ]
  },
  {
   "cell_type": "markdown",
   "metadata": {},
   "source": [
    "# Texton Detection"
   ]
  },
  {
   "cell_type": "code",
   "execution_count": 41,
   "metadata": {},
   "outputs": [
    {
     "data": {
      "text/plain": [
       "array([[  0.,   0.,   0., ...,   0.,   0.,   0.],\n",
       "       [  0.,   0.,   5., ...,   1.,   1.,   0.],\n",
       "       [  0.,   0.,  21., ...,   0.,   0.,   0.],\n",
       "       ..., \n",
       "       [  0.,   0.,   0., ...,  21.,  21.,   0.],\n",
       "       [  0.,   0.,   0., ...,  21.,   0.,   0.],\n",
       "       [  0.,   0.,   0., ...,   0.,   0.,   0.]])"
      ]
     },
     "execution_count": 41,
     "metadata": {},
     "output_type": "execute_result"
    }
   ],
   "source": [
    "Texton = np.zeros(width * height).reshape(width, height)\n",
    "\n",
    "for i in range(0,(int)(width/2)):\n",
    "    for j in range(0,(int)(height/2)):\n",
    "        if(ImageX[2*i,2*j] == ImageX[2*i+1,2*j+1]):\n",
    "            Texton[2 * i, 2 * j] = ImageX[2 * i, 2 * j]\n",
    "            Texton[2 * i + 1, 2 * j] = ImageX[2 * i + 1, 2 * j]\n",
    "            Texton[2 * i, 2 * j + 1] = ImageX[2 * i, 2 * j + 1]\n",
    "            Texton[2 * i + 1, 2 * j + 1] = ImageX[2 * i + 1, 2 * j + 1]\n",
    "        \n",
    "        if (ImageX[2*i,2*j+1] == ImageX[2*i+1,2*j]):\n",
    "            Texton[2 * i, 2 * j] = ImageX[2 * i, 2 * j]\n",
    "            Texton[2 * i + 1, 2 * j] = ImageX[2 * i + 1, 2 * j]\n",
    "            Texton[2 * i, 2 * j + 1] = ImageX[2 * i, 2 * j + 1]\n",
    "            Texton[2 * i + 1, 2 * j + 1] = ImageX[2 * i + 1, 2 * j + 1]\n",
    "        \n",
    "        if (ImageX[2*i,2*j] == ImageX[2*i+1,2*j]): \n",
    "            Texton[2 * i, 2 * j] = ImageX[2 * i, 2 * j]\n",
    "            Texton[2 * i + 1, 2 * j] = ImageX[2 * i + 1, 2 * j]\n",
    "            Texton[2 * i, 2 * j + 1] = ImageX[2 * i, 2 * j + 1]\n",
    "            Texton[2 * i + 1, 2 * j + 1] = ImageX[2 * i + 1, 2 * j + 1]\n",
    "            \n",
    "        if (ImageX[2*i,2*j] == ImageX[2*i,2*j+1]):\n",
    "            Texton[2 * i, 2 * j] = ImageX[2 * i, 2 * j]\n",
    "            Texton[2 * i + 1, 2 * j] = ImageX[2 * i + 1, 2 * j]\n",
    "            Texton[2 * i, 2 * j + 1] = ImageX[2 * i, 2 * j + 1]\n",
    "            Texton[2 * i + 1, 2 * j + 1] = ImageX[2 * i + 1, 2 * j + 1]\n",
    "Texton"
   ]
  },
  {
   "cell_type": "markdown",
   "metadata": {},
   "source": [
    "# Multi-Texton Histogram"
   ]
  },
  {
   "cell_type": "code",
   "execution_count": 42,
   "metadata": {},
   "outputs": [
    {
     "data": {
      "text/plain": [
       "array([  5.22200000e+03,   9.07000000e+02,   0.00000000e+00,\n",
       "         0.00000000e+00,   4.50000000e+01,   5.28000000e+02,\n",
       "         0.00000000e+00,   0.00000000e+00,   0.00000000e+00,\n",
       "         0.00000000e+00,   0.00000000e+00,   0.00000000e+00,\n",
       "         0.00000000e+00,   0.00000000e+00,   0.00000000e+00,\n",
       "         0.00000000e+00,   4.36000000e+02,   7.80000000e+01,\n",
       "         0.00000000e+00,   0.00000000e+00,   1.80000000e+02,\n",
       "         1.21870000e+04,   1.72000000e+02,   0.00000000e+00,\n",
       "         0.00000000e+00,   9.50000000e+01,   4.31000000e+02,\n",
       "         1.00000000e+00,   0.00000000e+00,   0.00000000e+00,\n",
       "         0.00000000e+00,   0.00000000e+00,   2.08000000e+02,\n",
       "         2.70000000e+01,   0.00000000e+00,   0.00000000e+00,\n",
       "         4.90000000e+01,   2.51000000e+02,   1.60000000e+01,\n",
       "         0.00000000e+00,   0.00000000e+00,   7.10000000e+01,\n",
       "         9.68000000e+02,   5.00000000e+00,   0.00000000e+00,\n",
       "         0.00000000e+00,   1.20000000e+01,   1.20000000e+01,\n",
       "         1.48000000e+02,   3.00000000e+00,   0.00000000e+00,\n",
       "         0.00000000e+00,   3.40000000e+01,   4.80000000e+01,\n",
       "         2.00000000e+00,   0.00000000e+00,   0.00000000e+00,\n",
       "         6.00000000e+00,   5.20000000e+01,   0.00000000e+00,\n",
       "         0.00000000e+00,   0.00000000e+00,   1.70000000e+01,\n",
       "         7.94000000e+02,   3.43000000e+02,   0.00000000e+00,\n",
       "         0.00000000e+00,   0.00000000e+00,   0.00000000e+00,\n",
       "         0.00000000e+00,   0.00000000e+00,   0.00000000e+00,\n",
       "         0.00000000e+00,   1.69520000e+04,   0.00000000e+00,\n",
       "         0.00000000e+00,   0.00000000e+00,   0.00000000e+00,\n",
       "         0.00000000e+00,   0.00000000e+00,   0.00000000e+00,\n",
       "         0.00000000e+00])"
      ]
     },
     "execution_count": 42,
     "metadata": {},
     "output_type": "execute_result"
    }
   ],
   "source": [
    "MatrixH = np.zeros(CSA + CSB).reshape(CSA + CSB)\n",
    "MatrixV = np.zeros(CSA + CSB).reshape(CSA + CSB)\n",
    "MatrixRD = np.zeros(CSA + CSB).reshape(CSA + CSB)\n",
    "MatrixLD = np.zeros(CSA + CSB).reshape(CSA + CSB)\n",
    "\n",
    "D = 1 #distance parameter\n",
    "\n",
    "for i in range(0, width):\n",
    "    for j in range(0, height-D):\n",
    "        if(ori[i, j+D] == ori[i, j]):\n",
    "            MatrixH[(int)(Texton[i,j])] += 1;\n",
    "        if(Texton[i, j + D] == Texton[i, j]):\n",
    "            MatrixH[(int)(CSA + ori[i, j])] += 1;\n",
    "\n",
    "for i in range(0, width-D):\n",
    "    for j in range(0, height):\n",
    "        if(ori[i + D, j] == ori[i, j]):\n",
    "            MatrixV[(int)(Texton[i,j])] += 1;\n",
    "        if(Texton[i + D, j] == Texton[i, j]):\n",
    "            MatrixV[(int)(CSA + ori[i, j])] += 1;\n",
    "\n",
    "for i in range(0, width-D):\n",
    "    for j in range(0, height-D):\n",
    "        if(ori[i + D, j + D] == ori[i, j]):\n",
    "            MatrixRD[(int)(Texton[i,j])] += 1;\n",
    "        if(Texton[i + D, j + D] == Texton[i, j]):\n",
    "            MatrixRD[(int)(CSA + ori[i, j])] += 1;\n",
    "            \n",
    "for i in range(D, width):\n",
    "    for j in range(0, height-D):\n",
    "        if(ori[i - D, j + D] == ori[i, j]):\n",
    "            MatrixLD[(int)(Texton[i,j])] += 1;\n",
    "        if(Texton[i - D, j + D] == Texton[i, j]):\n",
    "            MatrixLD[(int)(CSA + ori[i, j])] += 1;\n",
    "MatrixV\n",
    "#MatrixH"
   ]
  },
  {
   "cell_type": "markdown",
   "metadata": {},
   "source": [
    "# Feature Vectors"
   ]
  },
  {
   "cell_type": "code",
   "execution_count": 43,
   "metadata": {},
   "outputs": [
    {
     "data": {
      "text/plain": [
       "array([  5.09650000e+03,   9.01250000e+02,   0.00000000e+00,\n",
       "         0.00000000e+00,   4.45000000e+01,   5.25250000e+02,\n",
       "         0.00000000e+00,   0.00000000e+00,   0.00000000e+00,\n",
       "         0.00000000e+00,   0.00000000e+00,   0.00000000e+00,\n",
       "         0.00000000e+00,   0.00000000e+00,   0.00000000e+00,\n",
       "         0.00000000e+00,   4.31750000e+02,   7.67500000e+01,\n",
       "         0.00000000e+00,   0.00000000e+00,   1.74250000e+02,\n",
       "         1.21980000e+04,   1.71500000e+02,   0.00000000e+00,\n",
       "         0.00000000e+00,   9.50000000e+01,   4.30250000e+02,\n",
       "         7.50000000e-01,   0.00000000e+00,   0.00000000e+00,\n",
       "         0.00000000e+00,   0.00000000e+00,   2.07750000e+02,\n",
       "         2.70000000e+01,   0.00000000e+00,   0.00000000e+00,\n",
       "         4.82500000e+01,   2.49250000e+02,   1.60000000e+01,\n",
       "         0.00000000e+00,   0.00000000e+00,   7.10000000e+01,\n",
       "         9.67250000e+02,   5.00000000e+00,   0.00000000e+00,\n",
       "         0.00000000e+00,   1.20000000e+01,   1.20000000e+01,\n",
       "         1.48000000e+02,   3.00000000e+00,   0.00000000e+00,\n",
       "         0.00000000e+00,   3.40000000e+01,   4.80000000e+01,\n",
       "         2.00000000e+00,   0.00000000e+00,   0.00000000e+00,\n",
       "         6.00000000e+00,   5.20000000e+01,   0.00000000e+00,\n",
       "         0.00000000e+00,   0.00000000e+00,   1.70000000e+01,\n",
       "         7.94000000e+02,   2.80000000e+02,   0.00000000e+00,\n",
       "         0.00000000e+00,   0.00000000e+00,   0.00000000e+00,\n",
       "         0.00000000e+00,   0.00000000e+00,   0.00000000e+00,\n",
       "         0.00000000e+00,   1.66640000e+04,   0.00000000e+00,\n",
       "         0.00000000e+00,   0.00000000e+00,   0.00000000e+00,\n",
       "         0.00000000e+00,   0.00000000e+00,   0.00000000e+00,\n",
       "         0.00000000e+00])"
      ]
     },
     "execution_count": 43,
     "metadata": {},
     "output_type": "execute_result"
    }
   ],
   "source": [
    "MTH = np.zeros(CSA + CSB).reshape(CSA + CSB)\n",
    "\n",
    "for i in range(0, CSA + CSB):\n",
    "    MTH[i] = ( MatrixH[i] + MatrixV[i] + MatrixRD[i] + MatrixLD[i])/4.0;\n",
    "\n",
    "MTH"
   ]
  },
  {
   "cell_type": "code",
   "execution_count": 44,
   "metadata": {},
   "outputs": [
    {
     "data": {
      "text/plain": [
       "82"
      ]
     },
     "execution_count": 44,
     "metadata": {},
     "output_type": "execute_result"
    }
   ],
   "source": [
    "len(MTH)"
   ]
  },
  {
   "cell_type": "code",
   "execution_count": 45,
   "metadata": {},
   "outputs": [
    {
     "data": {
      "image/png": "[encoded data removed]",
      "text/plain": [
       "<matplotlib.figure.Figure at 0x954e1d0>"
      ]
     },
     "metadata": {},
     "output_type": "display_data"
    }
   ],
   "source": [
    "plt.axis([0, 82, 0, 4000])\n",
    "plt.bar(np.arange(82),MTH)\n",
    "plt.xlabel('Bin size')\n",
    "plt.ylabel('Frequency')\n",
    "plt.title('Histogram of MTH')\n",
    "plt.grid(True)\n",
    "\n",
    "plt.show()"
   ]
  },
  {
   "cell_type": "code",
   "execution_count": 94,
   "metadata": {
    "collapsed": true
   },
   "outputs": [],
   "source": [
    "[  4.57400000e+03,   5.57000000e+02,   0.00000000e+00,\n",
    "         0.00000000e+00,   4.77500000e+01,   5.34250000e+02,\n",
    "         1.30000000e+01,   1.00000000e+00,   0.00000000e+00,\n",
    "         0.00000000e+00,   2.00000000e+00,   1.00000000e+00,\n",
    "         0.00000000e+00,   0.00000000e+00,   0.00000000e+00,\n",
    "         0.00000000e+00,   5.64250000e+02,   1.17500000e+02,\n",
    "         0.00000000e+00,   0.00000000e+00,   2.87000000e+02,\n",
    "         1.25357500e+04,   1.30000000e+02,   0.00000000e+00,\n",
    "         0.00000000e+00,   6.62500000e+01,   3.55750000e+02,\n",
    "         3.00000000e+00,   0.00000000e+00,   0.00000000e+00,\n",
    "         0.00000000e+00,   0.00000000e+00,   6.57500000e+01,\n",
    "         1.20000000e+01,   0.00000000e+00,   0.00000000e+00,\n",
    "         9.40000000e+01,   3.33250000e+02,   2.30000000e+01,\n",
    "         0.00000000e+00,   0.00000000e+00,   3.87500000e+01,\n",
    "         1.47325000e+03,   1.37000000e+02,   0.00000000e+00,\n",
    "         0.00000000e+00,   1.70000000e+01,   2.90000000e+01,\n",
    "         1.15000000e+02,   1.00000000e+00,   0.00000000e+00,\n",
    "         0.00000000e+00,   2.40000000e+01,   6.27500000e+01,\n",
    "         2.00000000e+00,   0.00000000e+00,   0.00000000e+00,\n",
    "         1.10000000e+01,   6.40000000e+01,   2.00000000e+00,\n",
    "         0.00000000e+00,   0.00000000e+00,   2.90000000e+01,\n",
    "         5.42000000e+02,   2.59250000e+02,   0.00000000e+00,\n",
    "         0.00000000e+00,   0.00000000e+00,   0.00000000e+00,\n",
    "         0.00000000e+00,   0.00000000e+00,   0.00000000e+00,\n",
    "         0.00000000e+00,   1.63395000e+04,   0.00000000e+00,\n",
    "         0.00000000e+00,   0.00000000e+00,   0.00000000e+00,\n",
    "         0.00000000e+00,   0.00000000e+00,   0.00000000e+00,\n",
    "         0.00000000e+00]"
   ]
  },
  {
   "cell_type": "code",
   "execution_count": null,
   "metadata": {
    "collapsed": true
   },
   "outputs": [],
   "source": [
    "[  5.09650000e+03,   9.01250000e+02,   0.00000000e+00,\n",
    "         0.00000000e+00,   4.45000000e+01,   5.25250000e+02,\n",
    "         0.00000000e+00,   0.00000000e+00,   0.00000000e+00,\n",
    "         0.00000000e+00,   0.00000000e+00,   0.00000000e+00,\n",
    "         0.00000000e+00,   0.00000000e+00,   0.00000000e+00,\n",
    "         0.00000000e+00,   4.31750000e+02,   7.67500000e+01,\n",
    "         0.00000000e+00,   0.00000000e+00,   1.74250000e+02,\n",
    "         1.21980000e+04,   1.71500000e+02,   0.00000000e+00,\n",
    "         0.00000000e+00,   9.50000000e+01,   4.30250000e+02,\n",
    "         7.50000000e-01,   0.00000000e+00,   0.00000000e+00,\n",
    "         0.00000000e+00,   0.00000000e+00,   2.07750000e+02,\n",
    "         2.70000000e+01,   0.00000000e+00,   0.00000000e+00,\n",
    "         4.82500000e+01,   2.49250000e+02,   1.60000000e+01,\n",
    "         0.00000000e+00,   0.00000000e+00,   7.10000000e+01,\n",
    "         9.67250000e+02,   5.00000000e+00,   0.00000000e+00,\n",
    "         0.00000000e+00,   1.20000000e+01,   1.20000000e+01,\n",
    "         1.48000000e+02,   3.00000000e+00,   0.00000000e+00,\n",
    "         0.00000000e+00,   3.40000000e+01,   4.80000000e+01,\n",
    "         2.00000000e+00,   0.00000000e+00,   0.00000000e+00,\n",
    "         6.00000000e+00,   5.20000000e+01,   0.00000000e+00,\n",
    "         0.00000000e+00,   0.00000000e+00,   1.70000000e+01,\n",
    "         7.94000000e+02,   2.80000000e+02,   0.00000000e+00,\n",
    "         0.00000000e+00,   0.00000000e+00,   0.00000000e+00,\n",
    "         0.00000000e+00,   0.00000000e+00,   0.00000000e+00,\n",
    "         0.00000000e+00,   1.66640000e+04,   0.00000000e+00,\n",
    "         0.00000000e+00,   0.00000000e+00,   0.00000000e+00,\n",
    "         0.00000000e+00,   0.00000000e+00,   0.00000000e+00,\n",
    "         0.00000000e+00]"
   ]
  }
 ],
 "metadata": {
  "kernelspec": {
   "display_name": "Python 3",
   "language": "python",
   "name": "python3"
  },
  "language_info": {
   "codemirror_mode": {
    "name": "ipython",
    "version": 3
   },
   "file_extension": ".py",
   "mimetype": "text/x-python",
   "name": "python",
   "nbconvert_exporter": "python",
   "pygments_lexer": "ipython3",
   "version": "3.6.3"
  }
 },
 "nbformat": 4,
 "nbformat_minor": 2
}
